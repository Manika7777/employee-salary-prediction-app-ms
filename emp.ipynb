{
 "cells": [
  {
   "cell_type": "code",
   "execution_count": 15,
   "id": "bb7e7b7b",
   "metadata": {},
   "outputs": [
    {
     "name": "stdout",
     "output_type": "stream",
     "text": [
      "✅ Model trained and saved as best_model.pkl with only 5 input features.\n"
     ]
    }
   ],
   "source": [
    "# model_training.py\n",
    "\n",
    "import pandas as pd\n",
    "import joblib\n",
    "from sklearn.model_selection import train_test_split\n",
    "from sklearn.ensemble import GradientBoostingClassifier\n",
    "from sklearn.preprocessing import OneHotEncoder\n",
    "from sklearn.compose import ColumnTransformer\n",
    "from sklearn.pipeline import Pipeline\n",
    "\n",
    "# Load the data\n",
    "df = pd.read_csv(\"adult 3.csv\")\n",
    "# Add 'experience' column manually\n",
    "df['experience'] = df['age'] - 22\n",
    "df['experience'] = df['experience'].apply(lambda x: max(x, 0))  # No negative experience\n",
    "\n",
    "\n",
    "# ✅ Keep only the selected 5 input features + target\n",
    "df = df[['age', 'education', 'occupation', 'hours-per-week', 'experience', 'income']]\n",
    "\n",
    "# Define features (X) and target (y)\n",
    "X = df.drop(\"income\", axis=1)\n",
    "y = df[\"income\"]\n",
    "\n",
    "# Define categorical and numerical columns\n",
    "categorical_cols = [\"education\", \"occupation\"]\n",
    "numerical_cols = [\"age\", \"hours-per-week\", \"experience\"]\n",
    "\n",
    "# Preprocessing pipeline\n",
    "preprocessor = ColumnTransformer([\n",
    "    (\"cat\", OneHotEncoder(handle_unknown=\"ignore\"), categorical_cols)\n",
    "], remainder='passthrough')  # Pass through numerical columns\n",
    "\n",
    "# Full pipeline with preprocessing + classifier\n",
    "model = Pipeline(steps=[\n",
    "    (\"preprocessing\", preprocessor),\n",
    "    (\"classifier\", GradientBoostingClassifier())\n",
    "])\n",
    "\n",
    "# Split the dataset\n",
    "X_train, X_test, y_train, y_test = train_test_split(X, y, test_size=0.2, random_state=42)\n",
    "\n",
    "# Train the model\n",
    "model.fit(X_train, y_train)\n",
    "\n",
    "# Save the trained model pipeline\n",
    "joblib.dump(model, \"best_model.pkl\")\n",
    "print(\"\\u2705 Model trained and saved as best_model.pkl with only 5 input features.\")\n"
   ]
  }
 ],
 "metadata": {
  "kernelspec": {
   "display_name": "Python 3",
   "language": "python",
   "name": "python3"
  },
  "language_info": {
   "codemirror_mode": {
    "name": "ipython",
    "version": 3
   },
   "file_extension": ".py",
   "mimetype": "text/x-python",
   "name": "python",
   "nbconvert_exporter": "python",
   "pygments_lexer": "ipython3",
   "version": "3.13.5"
  }
 },
 "nbformat": 4,
 "nbformat_minor": 5
}
